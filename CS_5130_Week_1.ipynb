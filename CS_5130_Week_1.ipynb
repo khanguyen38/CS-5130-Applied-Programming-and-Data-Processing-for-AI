{
  "nbformat": 4,
  "nbformat_minor": 0,
  "metadata": {
    "colab": {
      "provenance": [],
      "authorship_tag": "ABX9TyNLbxLdpqx3YW+P4eOzikIT",
      "include_colab_link": true
    },
    "kernelspec": {
      "name": "python3",
      "display_name": "Python 3"
    },
    "language_info": {
      "name": "python"
    }
  },
  "cells": [
    {
      "cell_type": "markdown",
      "metadata": {
        "id": "view-in-github",
        "colab_type": "text"
      },
      "source": [
        "<a href=\"https://colab.research.google.com/github/khanguyen38/CS-5130-Applied-Programming-and-Data-Processing-for-AI/blob/main/CS_5130_Week_1.ipynb\" target=\"_parent\"><img src=\"https://colab.research.google.com/assets/colab-badge.svg\" alt=\"Open In Colab\"/></a>"
      ]
    },
    {
      "cell_type": "code",
      "source": [
        "################# Cell 0 — Setup (safe to re-run anytime)\n",
        "import numpy as np\n",
        "\n",
        "# Format NumPy print: no scientific notation, 4 decimals\n",
        "np.set_printoptions(suppress=True, precision=4)\n",
        "\n",
        "# Fix random seed for reproducible results\n",
        "np.random.seed(42)\n",
        "print(\"Setup complete ✓\")"
      ],
      "metadata": {
        "colab": {
          "base_uri": "https://localhost:8080/"
        },
        "id": "SIyKcIyHfam9",
        "outputId": "96cca17b-94ce-4f3e-faac-16add7bbe6d4"
      },
      "execution_count": 39,
      "outputs": [
        {
          "output_type": "stream",
          "name": "stdout",
          "text": [
            "Setup complete ✓\n"
          ]
        }
      ]
    },
    {
      "cell_type": "code",
      "source": [
        "################### Cell 1 — Creating vectors (NumPy arrays)\n",
        "\n",
        "# Format NumPy print: no scientific notation, 4 decimals\n",
        "np.set_printoptions(suppress=True, precision=4)\n",
        "\n",
        "# From Python list\n",
        "vec1 = np.array([1, 2, 3, 4, 5])\n",
        "print(\"vec1:\", vec1)\n",
        "\n",
        "# From list + explicit dtype (float32 saves memory vs float64)\n",
        "vec2 = np.array([1, 2, 3], dtype=np.float32)\n",
        "print(\"vec2 (float32):\", vec2, vec2.dtype)\n",
        "\n",
        "# Ranges\n",
        "vec3 = np.arange(0, 10, 2)      # [0,2,4,6,8]\n",
        "vec4 = np.linspace(0, 1, 5)     # 5 evenly spaced points in [0,1]\n",
        "print(\"vec3 (arange):\", vec3)\n",
        "print(\"vec4 (linspace):\", vec4)"
      ],
      "metadata": {
        "colab": {
          "base_uri": "https://localhost:8080/"
        },
        "id": "wpuIcvLIfeu6",
        "outputId": "a838aaed-7133-4be8-eddb-09f3009f79dd"
      },
      "execution_count": 25,
      "outputs": [
        {
          "output_type": "stream",
          "name": "stdout",
          "text": [
            "vec1: [1 2 3 4 5]\n",
            "vec2 (float32): [1. 2. 3.] float32\n",
            "vec3 (arange): [0 2 4 6 8]\n",
            "vec4 (linspace): [0.   0.25 0.5  0.75 1.  ]\n"
          ]
        }
      ]
    },
    {
      "cell_type": "code",
      "source": [
        "\n",
        "############# Cell 2 — Special & random vectors\n",
        "zeros = np.zeros(5)\n",
        "ones = np.ones(3)\n",
        "full = np.full(4, 3.14)\n",
        "eye_like = np.eye(1, 5)[0]     # \"identity-like\" 1x5 row → take row 0\n",
        "eye_like2 =np.eye(4, 5) #\n",
        "print(\"zeros:\", zeros)\n",
        "print(\"ones:\", ones)\n",
        "print(\"full:\", full)\n",
        "print(\"eye_like:\", eye_like)\n",
        "print(\"eye_like2:\", eye_like2)\n",
        "\n",
        "print(\"random uniform [0,1):\", np.random.random(3))\n",
        "print(\"uniform(-1,1):\", np.random.uniform(-1, 1, 3))\n",
        "print(\"standard normal:\", np.random.randn(3))\n",
        "print(\"randint [0,10):\", np.random.randint(0, 10, 3))"
      ],
      "metadata": {
        "colab": {
          "base_uri": "https://localhost:8080/"
        },
        "id": "RGDM9Y_xok9S",
        "outputId": "4a9df807-7aa7-42ce-b355-45ff1db46c81"
      },
      "execution_count": 37,
      "outputs": [
        {
          "output_type": "stream",
          "name": "stdout",
          "text": [
            "zeros: [0. 0. 0. 0. 0.]\n",
            "ones: [1. 1. 1.]\n",
            "full: [3.14 3.14 3.14 3.14]\n",
            "eye_like: [1. 0. 0. 0. 0.]\n",
            "eye_like2: [[1. 0. 0. 0. 0.]\n",
            " [0. 1. 0. 0. 0.]\n",
            " [0. 0. 1. 0. 0.]\n",
            " [0. 0. 0. 1. 0.]]\n",
            "random uniform [0,1): [0.3745 0.9507 0.732 ]\n",
            "uniform(-1,1): [ 0.1973 -0.688  -0.688 ]\n",
            "standard normal: [ 1.5792  0.7674 -0.4695]\n",
            "randint [0,10): [4 0 9]\n"
          ]
        }
      ]
    },
    {
      "cell_type": "code",
      "source": [
        "########### Cell 3 — Element-wise ops, scalars, ufuncs\n",
        "import numpy as np\n",
        "a = np.array([1, 2, 3, 4])\n",
        "b = np.array([5, 6, 7, 8])\n",
        "\n",
        "print(\"a + b:\", a + b)               # element-wise add\n",
        "print(\"a * b:\", a * b)               # element-wise multiply\n",
        "print(\"b / a:\", b / a)               # element-wise divide\n",
        "print(\"a * 10:\", a * 10)             # scalar broadcast\n",
        "\n",
        "print(\"sqrt(a):\", np.sqrt(a))\n",
        "print(\"log(a):\", np.log(a))\n",
        "print(\"exp(a):\", np.exp(a))"
      ],
      "metadata": {
        "colab": {
          "base_uri": "https://localhost:8080/"
        },
        "id": "Lzg3vYqsfxur",
        "outputId": "6521ee3d-73a0-42ef-88aa-233cd6b413f9"
      },
      "execution_count": 3,
      "outputs": [
        {
          "output_type": "stream",
          "name": "stdout",
          "text": [
            "a + b: [ 6  8 10 12]\n",
            "a * b: [ 5 12 21 32]\n",
            "b / a: [5.         3.         2.33333333 2.        ]\n",
            "a * 10: [10 20 30 40]\n",
            "sqrt(a): [1.         1.41421356 1.73205081 2.        ]\n",
            "log(a): [0.         0.69314718 1.09861229 1.38629436]\n",
            "exp(a): [ 2.71828183  7.3890561  20.08553692 54.59815003]\n"
          ]
        }
      ]
    },
    {
      "cell_type": "code",
      "source": [
        "###  Random Vector is crucial for ML Algoritms\n",
        "# Set seed for reproducibility\n",
        "np.random.seed(42)\n",
        "\n",
        "# Uniform distribution [0, 1)\n",
        "uniform = np.random.random(5)\n",
        "\n",
        "# Uniform in custom range\n",
        "uniform_range = np.random.uniform(-1, 1, 5)\n",
        "\n",
        "# Normal distribution (mean=0, std=1)\n",
        "normal = np.random.randn(5)\n",
        "\n",
        "# Normal with custom parameters\n",
        "normal_custom = np.random.normal(loc=100, scale=15, size=5)\n",
        "\n",
        "# Random integers\n",
        "integers = np.random.randint(0, 10, size=5)\n",
        "# -------------------------------\n",
        "\n",
        "print(\"uniform [0,1):\", uniform)\n",
        "print(\"uniform_range [-1,1):\", uniform_range)\n",
        "print(\"normal N(0,1):\", normal)\n",
        "print(\"normal_custom N(100,15^2):\", normal_custom)\n",
        "print(\"integers [0,10):\", integers)"
      ],
      "metadata": {
        "colab": {
          "base_uri": "https://localhost:8080/"
        },
        "id": "_8detN1Yt7ni",
        "outputId": "9d4e0b58-8a0c-4b32-8861-3d672723aa3b"
      },
      "execution_count": 14,
      "outputs": [
        {
          "output_type": "stream",
          "name": "stdout",
          "text": [
            "uniform [0,1): [0.3745 0.9507 0.732  0.5987 0.156 ]\n",
            "uniform_range [-1,1): [-0.688  -0.8838  0.7324  0.2022  0.4161]\n",
            "normal N(0,1): [-0.4695  0.5426 -0.4634 -0.4657  0.242 ]\n",
            "normal_custom N(100,15^2): [ 71.3008  74.1262  91.5657  84.8075 104.7137]\n",
            "integers [0,10): [2 6 3 8 2]\n"
          ]
        }
      ]
    },
    {
      "cell_type": "code",
      "source": [
        "####### Cell 4 — Dot product, norms, normalization.\n",
        "\n",
        "import numpy as np\n",
        "np.set_printoptions(suppress=True, precision=4)\n",
        "\n",
        "  #Dot Product\n",
        "u = np.array([[1, 2, 3],[2,3,4]])\n",
        "v = np.array([4, 5, 6])\n",
        "print(\"u @ v (dot):\", u @ v)         # 32\n",
        "print(\"u @ v (dot):\", u.dot(v))\n",
        "print(\"u @ v (dot):\", np.dot(u,v))\n",
        "\n",
        "  #Magnitude (Norm) do dai or kich thuoc cua vector\n",
        "\n",
        "w = np.array([3., 4.])\n",
        "\n",
        "# L2 norm (euclidean norm - khoang cach Euclid)\n",
        "print(\"||w||_2:\", np.linalg.norm(w))               # 5.0 ( dinh ly pythagoras : Cách tính quen thuộc nhất – giống như đo cạnh huyền trong tam giác vuông.)\n",
        "\n",
        "#L1 norm (Manhattan norm) – khoảng cách Manhattan\n",
        "print(\"||w||_1:\", np.linalg.norm(w, 1))            # 7.0 ( chỉ đi ngang và dọc, không đi chéo.)\n",
        "\n",
        "#L∞ norm (chuẩn vô cùng)\n",
        "print(\"||w||_inf:\", np.linalg.norm(w, np.inf))     # 4.0 ( chỉ quan tâm bước dài nhất theo một trục, chiều dài lớn nhất của vector trên một trục (ở đây trục y = 4).)\n",
        "\n",
        "#Vector đơn vị (unit vector)\n",
        "w_unit = w / np.linalg.norm(w) #vector ngắn lại thành độ dài 1, nhưng cùng hướng.Khi chia cho 5, ta được vector cùng hướng nhưng độ dài = 1, [3., 4.] -> [3/5 4/5] = [0.6 0.8]\n",
        "print(\"w_unit:\", w_unit, \"norm:\", np.linalg.norm(w_unit))"
      ],
      "metadata": {
        "colab": {
          "base_uri": "https://localhost:8080/"
        },
        "id": "gA6n0bU0wPbe",
        "outputId": "a7731ed4-fbe0-45a3-8c22-91c7f240432a"
      },
      "execution_count": 21,
      "outputs": [
        {
          "output_type": "stream",
          "name": "stdout",
          "text": [
            "u @ v (dot): [32 47]\n",
            "u @ v (dot): [32 47]\n",
            "u @ v (dot): [32 47]\n",
            "||w||_2: 5.0\n",
            "||w||_1: 7.0\n",
            "||w||_inf: 4.0\n",
            "w_unit: [0.6 0.8] norm: 1.0\n"
          ]
        }
      ]
    },
    {
      "cell_type": "code",
      "source": [
        "####### Boadcasting essentials\n",
        "# cách NumPy tự mở rộng (copy ảo) kích thước mảng để các toán tử (+, -, *, /, …) có thể áp dụng phần tử theo phần tử (element-wise).\n",
        "#Nếu hai mảng không cùng shape, NumPy sẽ cố “kéo giãn” (broadcast) chúng để khớp với nhau.\n",
        "\n",
        "\n",
        "# Scalar + vector\n",
        "vec = np.array([1, 2, 3])\n",
        "print(\"vec + 10:\", vec + 10)\n",
        "\n",
        "# Column vs row → creates matrix by broadcasting\n",
        "col = np.array([[1], [2], [3]])   # shape (3,1) Here you are creating a 2D NumPy array.\n",
        "row = np.array([10, 20, 30])      # shape (3,) behaves like (1,3)\n",
        "\n",
        "print(\"col:\",col)\n",
        "print(\"row:\",row)\n",
        "print(\"col + row:\\n\", col + row)"
      ],
      "metadata": {
        "colab": {
          "base_uri": "https://localhost:8080/"
        },
        "id": "j-YM3blVwR6a",
        "outputId": "477e6a0f-092d-4066-e106-be5e3e19d528"
      },
      "execution_count": 25,
      "outputs": [
        {
          "output_type": "stream",
          "name": "stdout",
          "text": [
            "vec + 10: [11 12 13]\n",
            "col: [[1]\n",
            " [2]\n",
            " [3]]\n",
            "row: [10 20 30]\n",
            "col + row:\n",
            " [[11 21 31]\n",
            " [12 22 32]\n",
            " [13 23 33]]\n"
          ]
        }
      ]
    },
    {
      "cell_type": "code",
      "source": [
        "######Cell 6 — Practical mini-functions (scaling, standardize, cosine, distance)\n",
        "\n",
        "import numpy as np\n",
        "np.set_printoptions(suppress=True, precision=4)\n",
        "\n",
        "# Hàm min_max_scale: Dùng để đưa dữ liệu về khoảng [0,1].\n",
        "def min_max_scale(vec):\n",
        "    return (vec - vec.min()) / (vec.max() - vec.min())\n",
        "\n",
        "# Hàm standardize: dữ liệu được chuẩn hóa về trung bình = 0, độ lệch chuẩn = 1.\n",
        "def standardize(vec):\n",
        "    return (vec - vec.mean()) / vec.std()\n",
        "\n",
        "# Hàm cosine_similarity: đo độ giống nhau về hướng giữa 2 vector.Kết quả trong [-1,1].\n",
        "# a @ b = tích vô hướng (dot product).\n",
        "#1  = giống hệt hướng, 0 = vuông góc, -1 = ngược hướng.\n",
        "def cosine_similarity(a, b):\n",
        "    denom = np.linalg.norm(a) * np.linalg.norm(b)\n",
        "    return 0.0 if denom == 0 else float((a @ b) / denom)\n",
        "\n",
        "# Hàm euclidean_distance: đo độ xa tuyệt đối giữa hai vector\n",
        "def euclidean_distance(a, b):\n",
        "    return float(np.linalg.norm(a - b))\n",
        "\n",
        "ages = np.array([22, 25, 30, 45, 67])\n",
        "print(\"min_max_scale(ages):\", min_max_scale(ages))\n",
        "print(\"standardize(ages):\", standardize(ages))\n",
        "\n",
        "user1 = np.array([5, 3, 0, 1])\n",
        "user2 = np.array([4, 0, 0, 1])\n",
        "user3 = np.array([1, 1, 5, 4])\n",
        "print(\"cos(user1,user2):\", cosine_similarity(user1, user2))  # cos ~ 0.97 → rất giống nhau\n",
        "\n",
        "\n",
        "print(\"cos(user1,user3):\", cosine_similarity(user1, user3))  # ~0.38\n",
        "print(\"dist(user1,user2):\", euclidean_distance(user1, user2))"
      ],
      "metadata": {
        "colab": {
          "base_uri": "https://localhost:8080/"
        },
        "id": "IxAD44tf7rCN",
        "outputId": "10ac8981-10fc-4eca-ac3f-f759404eabc1"
      },
      "execution_count": 1,
      "outputs": [
        {
          "output_type": "stream",
          "name": "stdout",
          "text": [
            "min_max_scale(ages): [0.     0.0667 0.1778 0.5111 1.    ]\n",
            "standardize(ages): [-0.9515 -0.7708 -0.4697  0.4336  1.7584]\n",
            "cos(user1,user2): 0.8609160647753271\n",
            "cos(user1,user3): 0.30932355733588024\n",
            "dist(user1,user2): 3.1622776601683795\n"
          ]
        }
      ]
    },
    {
      "cell_type": "markdown",
      "source": [],
      "metadata": {
        "id": "QqQWgv-D95yt"
      }
    },
    {
      "cell_type": "code",
      "source": [
        "####### Cell 7 — Matrices: creation, axes, reshaping\n",
        "\n",
        "import numpy as np\n",
        "np.set_printoptions(suppress=True, precision=4)\n",
        "\n",
        "A = np.array([[1, 2, 3],\n",
        "              [4, 5, 6]])\n",
        "print(\"A:\\n\", A)\n",
        "\n",
        "v1 = np.array([1, 2, 3])\n",
        "v2 = np.array([4, 5, 6])\n",
        "A2 = np.vstack([v1, v2])\n",
        "print(\"np.vstack([v1,v2]):\\n\", A2)\n",
        "\n",
        "x = np.arange(12)\n",
        "X = x.reshape(3, 4)\n",
        "print(\"X (reshape 3x4):\\n\", X)\n",
        "\n",
        "data = np.array([[1, 2, 3],\n",
        "                 [4, 5, 6],\n",
        "                 [7, 8, 9]])\n",
        "print(\"data.sum(axis=0) [col sums]:\", data.sum(axis=0)) # axis=0 = dọc xuống (cột).\n",
        "print(\"data.sum(axis=1) [row sums]:\", data.sum(axis=1)) # axis=1 = ngang qua (hàng)\n",
        "print(\"data.sum() total:\", data.sum())"
      ],
      "metadata": {
        "colab": {
          "base_uri": "https://localhost:8080/"
        },
        "id": "hytx1t5VyuH2",
        "outputId": "db9c0485-f97f-4be1-e2d6-a70fc3288792"
      },
      "execution_count": 2,
      "outputs": [
        {
          "output_type": "stream",
          "name": "stdout",
          "text": [
            "A:\n",
            " [[1 2 3]\n",
            " [4 5 6]]\n",
            "np.vstack([v1,v2]):\n",
            " [[1 2 3]\n",
            " [4 5 6]]\n",
            "X (reshape 3x4):\n",
            " [[ 0  1  2  3]\n",
            " [ 4  5  6  7]\n",
            " [ 8  9 10 11]]\n",
            "data.sum(axis=0) [col sums]: [12 15 18]\n",
            "data.sum(axis=1) [row sums]: [ 6 15 24]\n",
            "data.sum() total: 45\n"
          ]
        }
      ]
    },
    {
      "cell_type": "code",
      "source": [
        "#### Cell 8 — Per-feature normalization (2D, broadcasting)\n",
        "import numpy as np\n",
        "np.set_printoptions(suppress=True, precision=4)\n",
        "\n",
        "D = np.array([[1., 2., 3.],\n",
        "              [4., 5., 6.],\n",
        "              [7., 8., 9.]])\n",
        "means = D.mean(axis=0) # column's mean axis=0\n",
        "centered = D - means                 # subtract per-column mean #Centering (D - means): làm mỗi cột có mean = 0.\n",
        "print(\"means:\", means)\n",
        "print(\"centered:\\n\", centered)\n",
        "\n",
        "def normalize_features(data2d): #Normalization (min-max): co dãn mỗi cột về trong khoảng [0,1].\n",
        "    mins = data2d.min(axis=0)\n",
        "    maxs = data2d.max(axis=0)\n",
        "    return (data2d - mins) / (maxs - mins)\n",
        "\n",
        "print(\"normalize_features(D):\\n\", normalize_features(D))"
      ],
      "metadata": {
        "colab": {
          "base_uri": "https://localhost:8080/"
        },
        "id": "rH9kGwkmOasH",
        "outputId": "b504927a-cb43-4e78-cf28-e9d2473dbd70"
      },
      "execution_count": 3,
      "outputs": [
        {
          "output_type": "stream",
          "name": "stdout",
          "text": [
            "means: [4. 5. 6.]\n",
            "centered:\n",
            " [[-3. -3. -3.]\n",
            " [ 0.  0.  0.]\n",
            " [ 3.  3.  3.]]\n",
            "normalize_features(D):\n",
            " [[0.  0.  0. ]\n",
            " [0.5 0.5 0.5]\n",
            " [1.  1.  1. ]]\n"
          ]
        }
      ]
    },
    {
      "cell_type": "code",
      "source": [
        "####### Cell 9 — * (element-wise) vs @ (matrix multiply)\n",
        "import numpy as np\n",
        "np.set_printoptions(suppress=True, precision=4)\n",
        "\n",
        "A = np.array([[1, 2],\n",
        "              [3, 4]])\n",
        "B = np.array([[5, 6],\n",
        "              [7, 8]])\n",
        "\n",
        "print(\"A * B (element-wise):\\n\", A * B)\n",
        "print(\"A @ B (matrix product):\\n\", A @ B)"
      ],
      "metadata": {
        "colab": {
          "base_uri": "https://localhost:8080/"
        },
        "id": "nxFLScfYPgEs",
        "outputId": "99ea742e-1deb-4883-aa1d-c3ff46ea2036"
      },
      "execution_count": 4,
      "outputs": [
        {
          "output_type": "stream",
          "name": "stdout",
          "text": [
            "A * B (element-wise):\n",
            " [[ 5 12]\n",
            " [21 32]]\n",
            "A @ B (matrix product):\n",
            " [[19 22]\n",
            " [43 50]]\n"
          ]
        }
      ]
    },
    {
      "cell_type": "code",
      "source": [
        "######### Cell 10 — Views vs copies (mutation gotcha)\n",
        "import numpy as np\n",
        "np.set_printoptions(suppress=True, precision=4)\n",
        "\n",
        "arr = np.array([1, 2, 3, 4])\n",
        "ref = arr            # shares memory with arr , chỉ thêm tên gọi khác → cùng 1 dữ liệu.\n",
        "cpy = arr.copy()     # independent copy ,tạo dữ liệu mới, độc lập.\n",
        "\n",
        "ref[0] = 99\n",
        "print(\"arr after ref[0]=99:\", arr)  # changed!\n",
        "cpy[0] = 88\n",
        "print(\"arr after cpy[0]=88:\", arr)  # unchanged by copy"
      ],
      "metadata": {
        "colab": {
          "base_uri": "https://localhost:8080/"
        },
        "id": "yfwMJcFyRyWJ",
        "outputId": "a7a5a301-f298-40ab-9fe7-c3c2dfe6a430"
      },
      "execution_count": 5,
      "outputs": [
        {
          "output_type": "stream",
          "name": "stdout",
          "text": [
            "arr after ref[0]=99: [99  2  3  4]\n",
            "arr after cpy[0]=88: [99  2  3  4]\n"
          ]
        }
      ]
    },
    {
      "cell_type": "markdown",
      "source": [],
      "metadata": {
        "id": "grNjGlpuRyOv"
      }
    },
    {
      "cell_type": "code",
      "source": [
        "### Cell 11 — Linear transformations: scaling, rotation, projection\n",
        "# Đây là 3 phép biến đổi hình học cơ bản bằng ma trận trong 2D: co giãn (scaling), xoay (rotation), và chiếu lên đường thẳng (projection)\n",
        "import numpy as np\n",
        "np.set_printoptions(suppress=True, precision=4)\n",
        "\n",
        "# (a) Scaling in 2D\n",
        "sx, sy = 2.0, 0.5\n",
        "S = np.array([[sx, 0. ],\n",
        "              [0. , sy]])\n",
        "p = np.array([3., 4.])\n",
        "print(\"Scaling S @ p:\", S @ p)      # -> [6., 2.]\n",
        "\n",
        "# (b) Rotation in 2D\n",
        "def R2(theta):\n",
        "    c, s = np.cos(theta), np.sin(theta)\n",
        "    return np.array([[c, -s],\n",
        "                     [s,  c]])\n",
        "\n",
        "theta = np.pi / 4  # 45 degrees\n",
        "R = R2(theta)\n",
        "p0 = np.array([1., 0.])\n",
        "print(\"Rotation R(45°) @ [1,0]:\", R @ p0)\n",
        "\n",
        "# (c) Projection onto a line (2D)\n",
        "def project_onto_line(points, direction):\n",
        "    u = direction / np.linalg.norm(direction)  # unit direction # chuẩn hóa -> vector đơn vị\n",
        "    P = np.outer(u, u)                         # projection matrix = uu^T\n",
        "    return points @ P.T\n",
        "\n",
        "pts = np.array([[2., 1.],\n",
        "                [3., 5.],\n",
        "                [-1., 2.]])\n",
        "diag = np.array([1., 1.])  # y = x direction\n",
        "print(\"Project pts onto y=x:\\n\", project_onto_line(pts, diag))\n"
      ],
      "metadata": {
        "colab": {
          "base_uri": "https://localhost:8080/"
        },
        "id": "LmGfKSLOSp2h",
        "outputId": "16c9503c-7312-464a-dbf9-86d45ec71b36"
      },
      "execution_count": 6,
      "outputs": [
        {
          "output_type": "stream",
          "name": "stdout",
          "text": [
            "Scaling S @ p: [6. 2.]\n",
            "Rotation R(45°) @ [1,0]: [0.7071 0.7071]\n",
            "Project pts onto y=x:\n",
            " [[1.5 1.5]\n",
            " [4.  4. ]\n",
            " [0.5 0.5]]\n"
          ]
        }
      ]
    },
    {
      "cell_type": "code",
      "source": [
        "##### Cell 12 — Performance: vectorization vs loop\n",
        "\n",
        "import numpy as np, time\n",
        "np.set_printoptions(suppress=True, precision=4)\n",
        "\n",
        "N = 200_000\n",
        "a = np.random.randn(N) # mean =0, std =1\n",
        "b = np.random.randn(N)\n",
        "\n",
        "t0 = time.perf_counter()\n",
        "res_loop = [a[i] + b[i] for i in range(N)]\n",
        "t1 = time.perf_counter()\n",
        "\n",
        "t2 = time.perf_counter()\n",
        "res_vec = a + b\n",
        "t3 = time.perf_counter()\n",
        "\n",
        "loop_s = t1 - t0\n",
        "vec_s  = t3 - t2\n",
        "speedup = loop_s / vec_s if vec_s > 0 else np.inf  #tính speedup = loop_s / vec_s (tốc độ nhanh hơn bao nhiêu lần).gán speedup = np.inf (vô cùng, nghĩa là nhanh vô hạn).\n",
        "\n",
        "print(f\"Loop (s): {loop_s:.4f}\")\n",
        "print(f\"Vectorized (s): {vec_s:.4f}\")\n",
        "print(f\"Speedup: {speedup:.1f}x\")"
      ],
      "metadata": {
        "colab": {
          "base_uri": "https://localhost:8080/"
        },
        "id": "_uqbyZLAi2P5",
        "outputId": "f68cf067-42c5-4df4-d35c-aad00545894b"
      },
      "execution_count": 10,
      "outputs": [
        {
          "output_type": "stream",
          "name": "stdout",
          "text": [
            "Loop (s): 0.0758\n",
            "Vectorized (s): 0.0009\n",
            "Speedup: 87.8x\n"
          ]
        }
      ]
    },
    {
      "cell_type": "code",
      "source": [
        "print(np.random.randn(100))"
      ],
      "metadata": {
        "colab": {
          "base_uri": "https://localhost:8080/"
        },
        "id": "vItVqfzxkF1t",
        "outputId": "38c04d88-6f44-4784-ddb0-59414262da75"
      },
      "execution_count": 9,
      "outputs": [
        {
          "output_type": "stream",
          "name": "stdout",
          "text": [
            "[-0.4236  0.8267 -1.7913  0.479  -0.0518 -1.4333 -0.6983 -0.6964  0.9481\n",
            " -1.2081  0.2097  1.1667  1.0719 -0.0519  0.6895  0.9973 -0.1362  1.6911\n",
            "  0.3013 -0.1608 -0.117   0.1024  0.1749 -0.8704  0.2397 -0.8274  0.2661\n",
            " -0.1487 -2.3118 -0.5742 -0.9407  1.5172  0.2509 -2.122  -1.385   0.7755\n",
            "  0.8032 -0.6218 -0.7948 -0.3648  0.9958  1.2142  0.5459 -1.1693 -1.1631\n",
            "  0.8521 -0.4242  0.1922  1.1326  0.2841 -0.0525  0.1053  0.3407 -0.8156\n",
            " -2.1633 -0.5543 -1.0535 -0.1445  0.3804 -0.4837  0.1337  0.2323 -1.4515\n",
            " -1.988   1.1593  0.6569  1.2028  1.7655  0.3624 -1.3815 -1.6437  2.0996\n",
            " -0.4992 -1.8264 -0.3138 -2.5269 -0.8533  0.4186  0.3148 -1.1035  1.1654\n",
            "  0.4664  2.2263 -0.1644  1.3649 -0.2913  2.2696  0.2499  0.1701 -1.8931\n",
            "  0.0203 -0.3272 -0.397  -0.3953  1.1198  0.1835  0.1227 -0.5111 -2.0288\n",
            " -0.176 ]\n"
          ]
        }
      ]
    },
    {
      "cell_type": "markdown",
      "source": [],
      "metadata": {
        "id": "jDqay4g2i2Fr"
      }
    }
  ]
}